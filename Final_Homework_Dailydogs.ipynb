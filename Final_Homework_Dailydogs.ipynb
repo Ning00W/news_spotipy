{
 "cells": [
  {
   "cell_type": "code",
   "execution_count": 110,
   "id": "dc47c1df",
   "metadata": {},
   "outputs": [],
   "source": [
    "import spotipy\n",
    "import webbrowser\n",
    "import json\n",
    "import urllib.request\n",
    "import geocoder\n",
    "from nltk.corpus import stopwords\n",
    "import spotipy.util as util\n",
    "import random"
   ]
  },
  {
   "cell_type": "code",
   "execution_count": 129,
   "id": "597f8f34",
   "metadata": {},
   "outputs": [],
   "source": [
    "# open file with keys and set the path to your credentials JSON file\n",
    "credentials = \"Spotify_Keys.json\"\n",
    "with open(credentials, \"r\") as keys:\n",
    "    api_tokens = json.load(keys)"
   ]
  },
  {
   "cell_type": "code",
   "execution_count": 130,
   "id": "4127c919",
   "metadata": {},
   "outputs": [],
   "source": [
    "# read the keys and assign each to a variable\n",
    "# A redirect URI, or reply URL, is the location where the authorization server sends the user once the app has been \n",
    "# successfully authorized and granted an authorization code or access token.\n",
    "\n",
    "client_id = api_tokens[\"client_id\"]\n",
    "client_secret = api_tokens[\"client_secret\"]\n",
    "redirectURI = api_tokens[\"redirect\"]\n",
    "username = api_tokens[\"username\"]"
   ]
  },
  {
   "cell_type": "code",
   "execution_count": 131,
   "id": "0ce38bd3",
   "metadata": {},
   "outputs": [],
   "source": [
    "with open(\"news_keys.txt\", \"r\") as file:\n",
    "    key = file.read()"
   ]
  },
  {
   "cell_type": "code",
   "execution_count": 132,
   "id": "da2d137b",
   "metadata": {},
   "outputs": [],
   "source": [
    "# copy and paste the url into your browser to see what data you are getting back\n",
    "request = urllib.request.Request(\"https://dog.ceo/api/breeds/image/random\")\n",
    "response = urllib.request.urlopen(request)"
   ]
  },
  {
   "cell_type": "code",
   "execution_count": 133,
   "id": "ed47ec1d",
   "metadata": {},
   "outputs": [],
   "source": [
    "# converting the HTTPResponse object to a python dictionary\n",
    "headlines = json.loads(response.read())"
   ]
  },
  {
   "cell_type": "code",
   "execution_count": 134,
   "id": "d821d400",
   "metadata": {},
   "outputs": [
    {
     "name": "stdout",
     "output_type": "stream",
     "text": [
      "retriever-curly\n"
     ]
    }
   ],
   "source": [
    "headlines\n",
    "print(headlines['message'].split(\"/\")[4])"
   ]
  },
  {
   "cell_type": "code",
   "execution_count": 135,
   "id": "88625947",
   "metadata": {},
   "outputs": [],
   "source": [
    "pug = headlines['message'].split(\"/\")[4]"
   ]
  },
  {
   "cell_type": "code",
   "execution_count": 136,
   "id": "c83247a9",
   "metadata": {},
   "outputs": [
    {
     "name": "stdout",
     "output_type": "stream",
     "text": [
      "retriever-curly\n"
     ]
    }
   ],
   "source": [
    "print(pug)"
   ]
  },
  {
   "cell_type": "code",
   "execution_count": 137,
   "id": "8b55298a",
   "metadata": {},
   "outputs": [],
   "source": [
    "# scope = special powers\n",
    "scope = 'user-read-private user-read-playback-state user-modify-playback-state playlist-modify-public user-library-read'\n",
    "token = util.prompt_for_user_token(username, scope, client_id=client_id,\n",
    "                           client_secret=client_secret,\n",
    "                           redirect_uri=redirectURI)"
   ]
  },
  {
   "cell_type": "code",
   "execution_count": 138,
   "id": "ae6f2297",
   "metadata": {
    "scrolled": true
   },
   "outputs": [
    {
     "name": "stdout",
     "output_type": "stream",
     "text": [
      "BQAKUPmO22xnyEByQ3Ye8uCcrns42OjIRchRiNqhMdJhpP3zBasJ7FjkXXU5vs5nhEPc7ORSYdjxozFTmYA4pJu-ckUIFKuTP12zgH5IIKLPaXIuZSCWFy51pV_HFqigCDek9q04yAJ5lp0IVDpP6spByAM91lYShdyGnSqa40_uXkQWdQD18yFbp_bsEIAQquOdZfZAS4pDBEAKNanDA7nRFMMHdNiC-XU6aQFe\n"
     ]
    }
   ],
   "source": [
    "print(token)"
   ]
  },
  {
   "cell_type": "code",
   "execution_count": 139,
   "id": "0fe56a65",
   "metadata": {},
   "outputs": [],
   "source": [
    "# create a spotify object - this is how we interact with our API\n",
    "sp = spotipy.Spotify(auth=token)"
   ]
  },
  {
   "cell_type": "code",
   "execution_count": 140,
   "id": "b907eb98",
   "metadata": {},
   "outputs": [
    {
     "data": {
      "text/plain": [
       "{'username': '31r4kio4ahambzrug76panklpiiq',\n",
       " 'client_id': 'a8d9fab6ed05425b85053ca8132beab6',\n",
       " 'client_secret': '94eebdce5ce0453ea14ebc14353368f7',\n",
       " 'redirect': 'http://google.com/',\n",
       " 'weather_api': 'd117197b6adf7c32d85cd704de89f517'}"
      ]
     },
     "execution_count": 140,
     "metadata": {},
     "output_type": "execute_result"
    }
   ],
   "source": [
    "api_tokens"
   ]
  },
  {
   "cell_type": "code",
   "execution_count": 141,
   "id": "1578bce3",
   "metadata": {},
   "outputs": [],
   "source": [
    "# learn about more query strings for spotify here: https://dog.ceo/api/breeds/image/random\n",
    "track_results = sp.search(q=pug, type='track', limit=50)"
   ]
  },
  {
   "cell_type": "code",
   "execution_count": 142,
   "id": "16d856cf",
   "metadata": {},
   "outputs": [],
   "source": [
    "tracks = track_results['tracks']['items']"
   ]
  },
  {
   "cell_type": "code",
   "execution_count": 143,
   "id": "5e298f5d",
   "metadata": {},
   "outputs": [
    {
     "data": {
      "text/plain": [
       "{'album': {'album_type': 'album',\n",
       "  'artists': [{'external_urls': {'spotify': 'https://open.spotify.com/artist/7E2XVuOVxdc0ARS5HyCjbI'},\n",
       "    'href': 'https://api.spotify.com/v1/artists/7E2XVuOVxdc0ARS5HyCjbI',\n",
       "    'id': '7E2XVuOVxdc0ARS5HyCjbI',\n",
       "    'name': 'McCann Dogs Music',\n",
       "    'type': 'artist',\n",
       "    'uri': 'spotify:artist:7E2XVuOVxdc0ARS5HyCjbI'}],\n",
       "  'available_markets': ['AD',\n",
       "   'AE',\n",
       "   'AG',\n",
       "   'AL',\n",
       "   'AM',\n",
       "   'AO',\n",
       "   'AR',\n",
       "   'AT',\n",
       "   'AU',\n",
       "   'AZ',\n",
       "   'BA',\n",
       "   'BB',\n",
       "   'BD',\n",
       "   'BE',\n",
       "   'BF',\n",
       "   'BG',\n",
       "   'BH',\n",
       "   'BI',\n",
       "   'BJ',\n",
       "   'BN',\n",
       "   'BO',\n",
       "   'BR',\n",
       "   'BS',\n",
       "   'BT',\n",
       "   'BW',\n",
       "   'BY',\n",
       "   'BZ',\n",
       "   'CA',\n",
       "   'CD',\n",
       "   'CG',\n",
       "   'CH',\n",
       "   'CI',\n",
       "   'CL',\n",
       "   'CM',\n",
       "   'CO',\n",
       "   'CR',\n",
       "   'CV',\n",
       "   'CW',\n",
       "   'CY',\n",
       "   'CZ',\n",
       "   'DE',\n",
       "   'DJ',\n",
       "   'DK',\n",
       "   'DM',\n",
       "   'DO',\n",
       "   'DZ',\n",
       "   'EC',\n",
       "   'EE',\n",
       "   'EG',\n",
       "   'ES',\n",
       "   'FI',\n",
       "   'FJ',\n",
       "   'FM',\n",
       "   'FR',\n",
       "   'GA',\n",
       "   'GB',\n",
       "   'GD',\n",
       "   'GE',\n",
       "   'GH',\n",
       "   'GM',\n",
       "   'GN',\n",
       "   'GQ',\n",
       "   'GR',\n",
       "   'GT',\n",
       "   'GW',\n",
       "   'GY',\n",
       "   'HK',\n",
       "   'HN',\n",
       "   'HR',\n",
       "   'HT',\n",
       "   'HU',\n",
       "   'ID',\n",
       "   'IE',\n",
       "   'IL',\n",
       "   'IN',\n",
       "   'IQ',\n",
       "   'IS',\n",
       "   'IT',\n",
       "   'JM',\n",
       "   'JO',\n",
       "   'JP',\n",
       "   'KE',\n",
       "   'KG',\n",
       "   'KH',\n",
       "   'KI',\n",
       "   'KM',\n",
       "   'KN',\n",
       "   'KR',\n",
       "   'KW',\n",
       "   'KZ',\n",
       "   'LA',\n",
       "   'LB',\n",
       "   'LC',\n",
       "   'LI',\n",
       "   'LK',\n",
       "   'LR',\n",
       "   'LS',\n",
       "   'LT',\n",
       "   'LU',\n",
       "   'LV',\n",
       "   'LY',\n",
       "   'MA',\n",
       "   'MC',\n",
       "   'MD',\n",
       "   'ME',\n",
       "   'MG',\n",
       "   'MH',\n",
       "   'MK',\n",
       "   'ML',\n",
       "   'MN',\n",
       "   'MO',\n",
       "   'MR',\n",
       "   'MT',\n",
       "   'MU',\n",
       "   'MV',\n",
       "   'MW',\n",
       "   'MX',\n",
       "   'MY',\n",
       "   'MZ',\n",
       "   'NA',\n",
       "   'NE',\n",
       "   'NG',\n",
       "   'NI',\n",
       "   'NL',\n",
       "   'NO',\n",
       "   'NP',\n",
       "   'NR',\n",
       "   'NZ',\n",
       "   'OM',\n",
       "   'PA',\n",
       "   'PE',\n",
       "   'PG',\n",
       "   'PH',\n",
       "   'PK',\n",
       "   'PL',\n",
       "   'PS',\n",
       "   'PT',\n",
       "   'PW',\n",
       "   'PY',\n",
       "   'QA',\n",
       "   'RO',\n",
       "   'RS',\n",
       "   'RW',\n",
       "   'SA',\n",
       "   'SB',\n",
       "   'SC',\n",
       "   'SE',\n",
       "   'SG',\n",
       "   'SI',\n",
       "   'SK',\n",
       "   'SL',\n",
       "   'SM',\n",
       "   'SN',\n",
       "   'SR',\n",
       "   'ST',\n",
       "   'SV',\n",
       "   'SZ',\n",
       "   'TD',\n",
       "   'TG',\n",
       "   'TH',\n",
       "   'TJ',\n",
       "   'TL',\n",
       "   'TN',\n",
       "   'TO',\n",
       "   'TR',\n",
       "   'TT',\n",
       "   'TV',\n",
       "   'TW',\n",
       "   'TZ',\n",
       "   'UA',\n",
       "   'UG',\n",
       "   'US',\n",
       "   'UY',\n",
       "   'UZ',\n",
       "   'VC',\n",
       "   'VE',\n",
       "   'VN',\n",
       "   'VU',\n",
       "   'WS',\n",
       "   'XK',\n",
       "   'ZA',\n",
       "   'ZM',\n",
       "   'ZW'],\n",
       "  'external_urls': {'spotify': 'https://open.spotify.com/album/6Z2RTxnv3oYxH2pcoCBzV0'},\n",
       "  'href': 'https://api.spotify.com/v1/albums/6Z2RTxnv3oYxH2pcoCBzV0',\n",
       "  'id': '6Z2RTxnv3oYxH2pcoCBzV0',\n",
       "  'images': [{'height': 640,\n",
       "    'url': 'https://i.scdn.co/image/ab67616d0000b273e96f1749191b0c9ce0feec4f',\n",
       "    'width': 640},\n",
       "   {'height': 300,\n",
       "    'url': 'https://i.scdn.co/image/ab67616d00001e02e96f1749191b0c9ce0feec4f',\n",
       "    'width': 300},\n",
       "   {'height': 64,\n",
       "    'url': 'https://i.scdn.co/image/ab67616d00004851e96f1749191b0c9ce0feec4f',\n",
       "    'width': 64}],\n",
       "  'name': 'Relaxing Music For Dogs',\n",
       "  'release_date': '2022-11-28',\n",
       "  'release_date_precision': 'day',\n",
       "  'total_tracks': 17,\n",
       "  'type': 'album',\n",
       "  'uri': 'spotify:album:6Z2RTxnv3oYxH2pcoCBzV0'},\n",
       " 'artists': [{'external_urls': {'spotify': 'https://open.spotify.com/artist/7E2XVuOVxdc0ARS5HyCjbI'},\n",
       "   'href': 'https://api.spotify.com/v1/artists/7E2XVuOVxdc0ARS5HyCjbI',\n",
       "   'id': '7E2XVuOVxdc0ARS5HyCjbI',\n",
       "   'name': 'McCann Dogs Music',\n",
       "   'type': 'artist',\n",
       "   'uri': 'spotify:artist:7E2XVuOVxdc0ARS5HyCjbI'}],\n",
       " 'available_markets': ['AD',\n",
       "  'AE',\n",
       "  'AG',\n",
       "  'AL',\n",
       "  'AM',\n",
       "  'AO',\n",
       "  'AR',\n",
       "  'AT',\n",
       "  'AU',\n",
       "  'AZ',\n",
       "  'BA',\n",
       "  'BB',\n",
       "  'BD',\n",
       "  'BE',\n",
       "  'BF',\n",
       "  'BG',\n",
       "  'BH',\n",
       "  'BI',\n",
       "  'BJ',\n",
       "  'BN',\n",
       "  'BO',\n",
       "  'BR',\n",
       "  'BS',\n",
       "  'BT',\n",
       "  'BW',\n",
       "  'BY',\n",
       "  'BZ',\n",
       "  'CA',\n",
       "  'CD',\n",
       "  'CG',\n",
       "  'CH',\n",
       "  'CI',\n",
       "  'CL',\n",
       "  'CM',\n",
       "  'CO',\n",
       "  'CR',\n",
       "  'CV',\n",
       "  'CW',\n",
       "  'CY',\n",
       "  'CZ',\n",
       "  'DE',\n",
       "  'DJ',\n",
       "  'DK',\n",
       "  'DM',\n",
       "  'DO',\n",
       "  'DZ',\n",
       "  'EC',\n",
       "  'EE',\n",
       "  'EG',\n",
       "  'ES',\n",
       "  'FI',\n",
       "  'FJ',\n",
       "  'FM',\n",
       "  'FR',\n",
       "  'GA',\n",
       "  'GB',\n",
       "  'GD',\n",
       "  'GE',\n",
       "  'GH',\n",
       "  'GM',\n",
       "  'GN',\n",
       "  'GQ',\n",
       "  'GR',\n",
       "  'GT',\n",
       "  'GW',\n",
       "  'GY',\n",
       "  'HK',\n",
       "  'HN',\n",
       "  'HR',\n",
       "  'HT',\n",
       "  'HU',\n",
       "  'ID',\n",
       "  'IE',\n",
       "  'IL',\n",
       "  'IN',\n",
       "  'IQ',\n",
       "  'IS',\n",
       "  'IT',\n",
       "  'JM',\n",
       "  'JO',\n",
       "  'JP',\n",
       "  'KE',\n",
       "  'KG',\n",
       "  'KH',\n",
       "  'KI',\n",
       "  'KM',\n",
       "  'KN',\n",
       "  'KR',\n",
       "  'KW',\n",
       "  'KZ',\n",
       "  'LA',\n",
       "  'LB',\n",
       "  'LC',\n",
       "  'LI',\n",
       "  'LK',\n",
       "  'LR',\n",
       "  'LS',\n",
       "  'LT',\n",
       "  'LU',\n",
       "  'LV',\n",
       "  'LY',\n",
       "  'MA',\n",
       "  'MC',\n",
       "  'MD',\n",
       "  'ME',\n",
       "  'MG',\n",
       "  'MH',\n",
       "  'MK',\n",
       "  'ML',\n",
       "  'MN',\n",
       "  'MO',\n",
       "  'MR',\n",
       "  'MT',\n",
       "  'MU',\n",
       "  'MV',\n",
       "  'MW',\n",
       "  'MX',\n",
       "  'MY',\n",
       "  'MZ',\n",
       "  'NA',\n",
       "  'NE',\n",
       "  'NG',\n",
       "  'NI',\n",
       "  'NL',\n",
       "  'NO',\n",
       "  'NP',\n",
       "  'NR',\n",
       "  'NZ',\n",
       "  'OM',\n",
       "  'PA',\n",
       "  'PE',\n",
       "  'PG',\n",
       "  'PH',\n",
       "  'PK',\n",
       "  'PL',\n",
       "  'PS',\n",
       "  'PT',\n",
       "  'PW',\n",
       "  'PY',\n",
       "  'QA',\n",
       "  'RO',\n",
       "  'RS',\n",
       "  'RW',\n",
       "  'SA',\n",
       "  'SB',\n",
       "  'SC',\n",
       "  'SE',\n",
       "  'SG',\n",
       "  'SI',\n",
       "  'SK',\n",
       "  'SL',\n",
       "  'SM',\n",
       "  'SN',\n",
       "  'SR',\n",
       "  'ST',\n",
       "  'SV',\n",
       "  'SZ',\n",
       "  'TD',\n",
       "  'TG',\n",
       "  'TH',\n",
       "  'TJ',\n",
       "  'TL',\n",
       "  'TN',\n",
       "  'TO',\n",
       "  'TR',\n",
       "  'TT',\n",
       "  'TV',\n",
       "  'TW',\n",
       "  'TZ',\n",
       "  'UA',\n",
       "  'UG',\n",
       "  'US',\n",
       "  'UY',\n",
       "  'UZ',\n",
       "  'VC',\n",
       "  'VE',\n",
       "  'VN',\n",
       "  'VU',\n",
       "  'WS',\n",
       "  'XK',\n",
       "  'ZA',\n",
       "  'ZM',\n",
       "  'ZW'],\n",
       " 'disc_number': 1,\n",
       " 'duration_ms': 1962000,\n",
       " 'explicit': False,\n",
       " 'external_ids': {'isrc': 'QZTB42205678'},\n",
       " 'external_urls': {'spotify': 'https://open.spotify.com/track/7h7rwehGgxg3UkAoe1FRZB'},\n",
       " 'href': 'https://api.spotify.com/v1/tracks/7h7rwehGgxg3UkAoe1FRZB',\n",
       " 'id': '7h7rwehGgxg3UkAoe1FRZB',\n",
       " 'is_local': False,\n",
       " 'name': 'Cozy Curly Coated Retriever',\n",
       " 'popularity': 0,\n",
       " 'preview_url': 'https://p.scdn.co/mp3-preview/793e1a08b969839cb3efd7855aa4e58d11203925?cid=b417435b5fd645a08049f518255d0c09',\n",
       " 'track_number': 14,\n",
       " 'type': 'track',\n",
       " 'uri': 'spotify:track:7h7rwehGgxg3UkAoe1FRZB'}"
      ]
     },
     "execution_count": 143,
     "metadata": {},
     "output_type": "execute_result"
    }
   ],
   "source": [
    "tracks[0]"
   ]
  },
  {
   "cell_type": "code",
   "execution_count": 144,
   "id": "6b7647ed",
   "metadata": {},
   "outputs": [],
   "source": [
    "# URI = uniform resource identifier\n",
    "track_selection_list = []\n",
    "track_art = []\n",
    "\n",
    "for song in tracks:\n",
    "    track_selection_list.append(song['uri'])\n",
    "    track_art.append(song['album']['images'][0]['url'])"
   ]
  },
  {
   "cell_type": "code",
   "execution_count": 145,
   "id": "2f7dd590",
   "metadata": {},
   "outputs": [
    {
     "name": "stderr",
     "output_type": "stream",
     "text": [
      "HTTP Error for POST to https://api.spotify.com/v1/users/31r4kio4ahambzrug76panklpiiq/playlists with Params: {} returned 403 due to You cannot create a playlist for another user.\n"
     ]
    },
    {
     "ename": "SpotifyException",
     "evalue": "http status: 403, code:-1 - https://api.spotify.com/v1/users/31r4kio4ahambzrug76panklpiiq/playlists:\n You cannot create a playlist for another user., reason: None",
     "output_type": "error",
     "traceback": [
      "\u001b[1;31m---------------------------------------------------------------------------\u001b[0m",
      "\u001b[1;31mHTTPError\u001b[0m                                 Traceback (most recent call last)",
      "File \u001b[1;32m~\\NewsSpotify\\venv\\Lib\\site-packages\\spotipy\\client.py:245\u001b[0m, in \u001b[0;36mSpotify._internal_call\u001b[1;34m(self, method, url, payload, params)\u001b[0m\n\u001b[0;32m    240\u001b[0m response \u001b[38;5;241m=\u001b[39m \u001b[38;5;28mself\u001b[39m\u001b[38;5;241m.\u001b[39m_session\u001b[38;5;241m.\u001b[39mrequest(\n\u001b[0;32m    241\u001b[0m     method, url, headers\u001b[38;5;241m=\u001b[39mheaders, proxies\u001b[38;5;241m=\u001b[39m\u001b[38;5;28mself\u001b[39m\u001b[38;5;241m.\u001b[39mproxies,\n\u001b[0;32m    242\u001b[0m     timeout\u001b[38;5;241m=\u001b[39m\u001b[38;5;28mself\u001b[39m\u001b[38;5;241m.\u001b[39mrequests_timeout, \u001b[38;5;241m*\u001b[39m\u001b[38;5;241m*\u001b[39margs\n\u001b[0;32m    243\u001b[0m )\n\u001b[1;32m--> 245\u001b[0m \u001b[43mresponse\u001b[49m\u001b[38;5;241;43m.\u001b[39;49m\u001b[43mraise_for_status\u001b[49m\u001b[43m(\u001b[49m\u001b[43m)\u001b[49m\n\u001b[0;32m    246\u001b[0m results \u001b[38;5;241m=\u001b[39m response\u001b[38;5;241m.\u001b[39mjson()\n",
      "File \u001b[1;32m~\\NewsSpotify\\venv\\Lib\\site-packages\\requests\\models.py:1021\u001b[0m, in \u001b[0;36mResponse.raise_for_status\u001b[1;34m(self)\u001b[0m\n\u001b[0;32m   1020\u001b[0m \u001b[38;5;28;01mif\u001b[39;00m http_error_msg:\n\u001b[1;32m-> 1021\u001b[0m     \u001b[38;5;28;01mraise\u001b[39;00m HTTPError(http_error_msg, response\u001b[38;5;241m=\u001b[39m\u001b[38;5;28mself\u001b[39m)\n",
      "\u001b[1;31mHTTPError\u001b[0m: 403 Client Error: Forbidden for url: https://api.spotify.com/v1/users/31r4kio4ahambzrug76panklpiiq/playlists",
      "\nDuring handling of the above exception, another exception occurred:\n",
      "\u001b[1;31mSpotifyException\u001b[0m                          Traceback (most recent call last)",
      "Cell \u001b[1;32mIn[145], line 1\u001b[0m\n\u001b[1;32m----> 1\u001b[0m my_playlist \u001b[38;5;241m=\u001b[39m \u001b[43msp\u001b[49m\u001b[38;5;241;43m.\u001b[39;49m\u001b[43muser_playlist_create\u001b[49m\u001b[43m(\u001b[49m\u001b[43muser\u001b[49m\u001b[38;5;241;43m=\u001b[39;49m\u001b[43musername\u001b[49m\u001b[43m,\u001b[49m\u001b[43m \u001b[49m\u001b[43mname\u001b[49m\u001b[38;5;241;43m=\u001b[39;49m\u001b[43mpug\u001b[49m\u001b[43m,\u001b[49m\u001b[43m \u001b[49m\u001b[43mpublic\u001b[49m\u001b[38;5;241;43m=\u001b[39;49m\u001b[38;5;28;43;01mTrue\u001b[39;49;00m\u001b[43m,\u001b[49m\n\u001b[0;32m      2\u001b[0m \u001b[43m                                      \u001b[49m\u001b[43mdescription\u001b[49m\u001b[38;5;241;43m=\u001b[39;49m\u001b[38;5;124;43m\"\u001b[39;49m\u001b[38;5;124;43mDailyDogs\u001b[39;49m\u001b[38;5;124;43m\"\u001b[39;49m\u001b[43m)\u001b[49m\n\u001b[0;32m      3\u001b[0m results \u001b[38;5;241m=\u001b[39m sp\u001b[38;5;241m.\u001b[39muser_playlist_add_tracks(username, my_playlist[\u001b[38;5;124m'\u001b[39m\u001b[38;5;124mid\u001b[39m\u001b[38;5;124m'\u001b[39m], track_selection_list)\n\u001b[0;32m      4\u001b[0m \u001b[38;5;28mprint\u001b[39m(results)\n",
      "File \u001b[1;32m~\\NewsSpotify\\venv\\Lib\\site-packages\\spotipy\\client.py:792\u001b[0m, in \u001b[0;36mSpotify.user_playlist_create\u001b[1;34m(self, user, name, public, collaborative, description)\u001b[0m\n\u001b[0;32m    776\u001b[0m \u001b[38;5;124;03m\"\"\" Creates a playlist for a user\u001b[39;00m\n\u001b[0;32m    777\u001b[0m \n\u001b[0;32m    778\u001b[0m \u001b[38;5;124;03m    Parameters:\u001b[39;00m\n\u001b[1;32m   (...)\u001b[0m\n\u001b[0;32m    783\u001b[0m \u001b[38;5;124;03m        - description - the description of the playlist\u001b[39;00m\n\u001b[0;32m    784\u001b[0m \u001b[38;5;124;03m\"\"\"\u001b[39;00m\n\u001b[0;32m    785\u001b[0m data \u001b[38;5;241m=\u001b[39m {\n\u001b[0;32m    786\u001b[0m     \u001b[38;5;124m\"\u001b[39m\u001b[38;5;124mname\u001b[39m\u001b[38;5;124m\"\u001b[39m: name,\n\u001b[0;32m    787\u001b[0m     \u001b[38;5;124m\"\u001b[39m\u001b[38;5;124mpublic\u001b[39m\u001b[38;5;124m\"\u001b[39m: public,\n\u001b[0;32m    788\u001b[0m     \u001b[38;5;124m\"\u001b[39m\u001b[38;5;124mcollaborative\u001b[39m\u001b[38;5;124m\"\u001b[39m: collaborative,\n\u001b[0;32m    789\u001b[0m     \u001b[38;5;124m\"\u001b[39m\u001b[38;5;124mdescription\u001b[39m\u001b[38;5;124m\"\u001b[39m: description\n\u001b[0;32m    790\u001b[0m }\n\u001b[1;32m--> 792\u001b[0m \u001b[38;5;28;01mreturn\u001b[39;00m \u001b[38;5;28;43mself\u001b[39;49m\u001b[38;5;241;43m.\u001b[39;49m\u001b[43m_post\u001b[49m\u001b[43m(\u001b[49m\u001b[38;5;124;43m\"\u001b[39;49m\u001b[38;5;124;43musers/\u001b[39;49m\u001b[38;5;132;43;01m%s\u001b[39;49;00m\u001b[38;5;124;43m/playlists\u001b[39;49m\u001b[38;5;124;43m\"\u001b[39;49m\u001b[43m \u001b[49m\u001b[38;5;241;43m%\u001b[39;49m\u001b[43m \u001b[49m\u001b[43m(\u001b[49m\u001b[43muser\u001b[49m\u001b[43m,\u001b[49m\u001b[43m)\u001b[49m\u001b[43m,\u001b[49m\u001b[43m \u001b[49m\u001b[43mpayload\u001b[49m\u001b[38;5;241;43m=\u001b[39;49m\u001b[43mdata\u001b[49m\u001b[43m)\u001b[49m\n",
      "File \u001b[1;32m~\\NewsSpotify\\venv\\Lib\\site-packages\\spotipy\\client.py:302\u001b[0m, in \u001b[0;36mSpotify._post\u001b[1;34m(self, url, args, payload, **kwargs)\u001b[0m\n\u001b[0;32m    300\u001b[0m \u001b[38;5;28;01mif\u001b[39;00m args:\n\u001b[0;32m    301\u001b[0m     kwargs\u001b[38;5;241m.\u001b[39mupdate(args)\n\u001b[1;32m--> 302\u001b[0m \u001b[38;5;28;01mreturn\u001b[39;00m \u001b[38;5;28;43mself\u001b[39;49m\u001b[38;5;241;43m.\u001b[39;49m\u001b[43m_internal_call\u001b[49m\u001b[43m(\u001b[49m\u001b[38;5;124;43m\"\u001b[39;49m\u001b[38;5;124;43mPOST\u001b[39;49m\u001b[38;5;124;43m\"\u001b[39;49m\u001b[43m,\u001b[49m\u001b[43m \u001b[49m\u001b[43murl\u001b[49m\u001b[43m,\u001b[49m\u001b[43m \u001b[49m\u001b[43mpayload\u001b[49m\u001b[43m,\u001b[49m\u001b[43m \u001b[49m\u001b[43mkwargs\u001b[49m\u001b[43m)\u001b[49m\n",
      "File \u001b[1;32m~\\NewsSpotify\\venv\\Lib\\site-packages\\spotipy\\client.py:267\u001b[0m, in \u001b[0;36mSpotify._internal_call\u001b[1;34m(self, method, url, payload, params)\u001b[0m\n\u001b[0;32m    260\u001b[0m         reason \u001b[38;5;241m=\u001b[39m \u001b[38;5;28;01mNone\u001b[39;00m\n\u001b[0;32m    262\u001b[0m     logger\u001b[38;5;241m.\u001b[39merror(\n\u001b[0;32m    263\u001b[0m         \u001b[38;5;124m'\u001b[39m\u001b[38;5;124mHTTP Error for \u001b[39m\u001b[38;5;132;01m%s\u001b[39;00m\u001b[38;5;124m to \u001b[39m\u001b[38;5;132;01m%s\u001b[39;00m\u001b[38;5;124m with Params: \u001b[39m\u001b[38;5;132;01m%s\u001b[39;00m\u001b[38;5;124m returned \u001b[39m\u001b[38;5;132;01m%s\u001b[39;00m\u001b[38;5;124m due to \u001b[39m\u001b[38;5;132;01m%s\u001b[39;00m\u001b[38;5;124m'\u001b[39m,\n\u001b[0;32m    264\u001b[0m         method, url, args\u001b[38;5;241m.\u001b[39mget(\u001b[38;5;124m\"\u001b[39m\u001b[38;5;124mparams\u001b[39m\u001b[38;5;124m\"\u001b[39m), response\u001b[38;5;241m.\u001b[39mstatus_code, msg\n\u001b[0;32m    265\u001b[0m     )\n\u001b[1;32m--> 267\u001b[0m     \u001b[38;5;28;01mraise\u001b[39;00m SpotifyException(\n\u001b[0;32m    268\u001b[0m         response\u001b[38;5;241m.\u001b[39mstatus_code,\n\u001b[0;32m    269\u001b[0m         \u001b[38;5;241m-\u001b[39m\u001b[38;5;241m1\u001b[39m,\n\u001b[0;32m    270\u001b[0m         \u001b[38;5;124m\"\u001b[39m\u001b[38;5;132;01m%s\u001b[39;00m\u001b[38;5;124m:\u001b[39m\u001b[38;5;130;01m\\n\u001b[39;00m\u001b[38;5;124m \u001b[39m\u001b[38;5;132;01m%s\u001b[39;00m\u001b[38;5;124m\"\u001b[39m \u001b[38;5;241m%\u001b[39m (response\u001b[38;5;241m.\u001b[39murl, msg),\n\u001b[0;32m    271\u001b[0m         reason\u001b[38;5;241m=\u001b[39mreason,\n\u001b[0;32m    272\u001b[0m         headers\u001b[38;5;241m=\u001b[39mresponse\u001b[38;5;241m.\u001b[39mheaders,\n\u001b[0;32m    273\u001b[0m     )\n\u001b[0;32m    274\u001b[0m \u001b[38;5;28;01mexcept\u001b[39;00m requests\u001b[38;5;241m.\u001b[39mexceptions\u001b[38;5;241m.\u001b[39mRetryError \u001b[38;5;28;01mas\u001b[39;00m retry_error:\n\u001b[0;32m    275\u001b[0m     request \u001b[38;5;241m=\u001b[39m retry_error\u001b[38;5;241m.\u001b[39mrequest\n",
      "\u001b[1;31mSpotifyException\u001b[0m: http status: 403, code:-1 - https://api.spotify.com/v1/users/31r4kio4ahambzrug76panklpiiq/playlists:\n You cannot create a playlist for another user., reason: None"
     ]
    }
   ],
   "source": [
    "my_playlist = sp.user_playlist_create(user=username, name=pug, public=True,\n",
    "                                      description=\"DailyDogs\")\n",
    "results = sp.user_playlist_add_tracks(username, my_playlist['id'], track_selection_list)\n",
    "print(results)"
   ]
  },
  {
   "cell_type": "code",
   "execution_count": 151,
   "id": "dee4cfc5",
   "metadata": {},
   "outputs": [
    {
     "name": "stdout",
     "output_type": "stream",
     "text": [
      "{'collaborative': False, 'description': 'DailyDogs', 'external_urls': {'spotify': 'https://open.spotify.com/playlist/3T4fBwDYnKZDTZyf95gIGY'}, 'followers': {'href': None, 'total': 0}, 'href': 'https://api.spotify.com/v1/playlists/3T4fBwDYnKZDTZyf95gIGY', 'id': '3T4fBwDYnKZDTZyf95gIGY', 'images': [], 'name': 'terrier-lakeland', 'owner': {'display_name': 'Ning Wei', 'external_urls': {'spotify': 'https://open.spotify.com/user/winnieqqq'}, 'href': 'https://api.spotify.com/v1/users/winnieqqq', 'id': 'winnieqqq', 'type': 'user', 'uri': 'spotify:user:winnieqqq'}, 'primary_color': None, 'public': True, 'snapshot_id': 'MSw2NzlkMWQ5NmYzOWU4MTYxYzY3YzY4NzhmNWFkZWNlNTEzNWYzNWQ5', 'tracks': {'href': 'https://api.spotify.com/v1/playlists/3T4fBwDYnKZDTZyf95gIGY/tracks', 'items': [], 'limit': 100, 'next': None, 'offset': 0, 'previous': None, 'total': 0}, 'type': 'playlist', 'uri': 'spotify:playlist:3T4fBwDYnKZDTZyf95gIGY'}\n"
     ]
    }
   ],
   "source": [
    "print(my_playlist)"
   ]
  },
  {
   "cell_type": "code",
   "execution_count": 152,
   "id": "8c594e84",
   "metadata": {},
   "outputs": [
    {
     "data": {
      "text/plain": [
       "True"
      ]
     },
     "execution_count": 152,
     "metadata": {},
     "output_type": "execute_result"
    }
   ],
   "source": [
    "# sp.start_playback(deviceID, None, track_selection_list)\n",
    "webbrowser.open(my_playlist['external_urls']['spotify'])"
   ]
  },
  {
   "cell_type": "code",
   "execution_count": null,
   "id": "879a2dbe",
   "metadata": {},
   "outputs": [],
   "source": []
  }
 ],
 "metadata": {
  "kernelspec": {
   "display_name": "Python 3 (ipykernel)",
   "language": "python",
   "name": "python3"
  },
  "language_info": {
   "codemirror_mode": {
    "name": "ipython",
    "version": 3
   },
   "file_extension": ".py",
   "mimetype": "text/x-python",
   "name": "python",
   "nbconvert_exporter": "python",
   "pygments_lexer": "ipython3",
   "version": "3.11.0"
  }
 },
 "nbformat": 4,
 "nbformat_minor": 5
}
